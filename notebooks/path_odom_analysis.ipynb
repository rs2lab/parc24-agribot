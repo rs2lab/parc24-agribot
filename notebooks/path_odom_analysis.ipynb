{
 "cells": [
  {
   "cell_type": "code",
   "execution_count": 1,
   "metadata": {},
   "outputs": [],
   "source": [
    "import yaml\n",
    "import pandas as pd\n",
    "import matplotlib.pyplot as plt"
   ]
  },
  {
   "cell_type": "code",
   "execution_count": 30,
   "metadata": {},
   "outputs": [],
   "source": [
    "with open(\"./path_odom.txt\", \"rt\") as file:\n",
    "    path_odom_content = file.read()\n",
    "\n",
    "path_odom = yaml.safe_load(path_odom_content.replace(\"---\", \"\").replace('...', ''))"
   ]
  },
  {
   "cell_type": "code",
   "execution_count": 31,
   "metadata": {},
   "outputs": [
    {
     "data": {
      "text/plain": [
       "({'x': 0.0, 'y': 0.0, 'z': 0.0},\n",
       " {'stamp': {'sec': 326, 'nanosec': 358248728}, 'frame_id': 'map'})"
      ]
     },
     "execution_count": 31,
     "metadata": {},
     "output_type": "execute_result"
    }
   ],
   "source": [
    "path_odom['poses'][0]['pose']['position'], path_odom['poses'][0]['header']"
   ]
  },
  {
   "cell_type": "code",
   "execution_count": 34,
   "metadata": {},
   "outputs": [
    {
     "name": "stdout",
     "output_type": "stream",
     "text": [
      "\n",
      "Positions: {'x': 0.0, 'y': 0.0, 'z': 0.0, 'timestamp': 326.358248728}\n",
      "Orientations: {'x': 0.0, 'y': 0.0, 'z': 0.0, 'w': 1.0, 'timestamp': 326.358248728}\n",
      "Total: 128\n"
     ]
    }
   ],
   "source": [
    "positions = []\n",
    "orientations = []\n",
    "for pose in path_odom[\"poses\"]:\n",
    "    try:\n",
    "        timestamp = pose['header']['stamp']['sec'] + pose['header']['stamp']['nanosec'] * 10**-9\n",
    "        position = dict(**pose['pose']['position'], timestamp=timestamp)\n",
    "        orientation = dict(**pose['pose']['orientation'], timestamp=timestamp)\n",
    "        positions.append(position)\n",
    "        orientations.append(orientation)\n",
    "    except:\n",
    "        print(pose)\n",
    "        break\n",
    "print(\"Positions:\", positions[0])\n",
    "print(\"Orientations:\", orientations[0])\n",
    "assert len(positions) == len(orientations)\n",
    "print(\"Total:\", len(positions))"
   ]
  },
  {
   "cell_type": "code",
   "execution_count": 35,
   "metadata": {},
   "outputs": [],
   "source": [
    "positions_df = pd.DataFrame.from_dict(positions)\n",
    "orientations_df = pd.DataFrame.from_dict(orientations)"
   ]
  },
  {
   "cell_type": "code",
   "execution_count": 36,
   "metadata": {},
   "outputs": [
    {
     "data": {
      "text/html": [
       "<div>\n",
       "<style scoped>\n",
       "    .dataframe tbody tr th:only-of-type {\n",
       "        vertical-align: middle;\n",
       "    }\n",
       "\n",
       "    .dataframe tbody tr th {\n",
       "        vertical-align: top;\n",
       "    }\n",
       "\n",
       "    .dataframe thead th {\n",
       "        text-align: right;\n",
       "    }\n",
       "</style>\n",
       "<table border=\"1\" class=\"dataframe\">\n",
       "  <thead>\n",
       "    <tr style=\"text-align: right;\">\n",
       "      <th></th>\n",
       "      <th>x</th>\n",
       "      <th>y</th>\n",
       "      <th>z</th>\n",
       "      <th>timestamp</th>\n",
       "    </tr>\n",
       "  </thead>\n",
       "  <tbody>\n",
       "    <tr>\n",
       "      <th>123</th>\n",
       "      <td>10.092339</td>\n",
       "      <td>2.297808</td>\n",
       "      <td>0.928524</td>\n",
       "      <td>389.894061</td>\n",
       "    </tr>\n",
       "    <tr>\n",
       "      <th>124</th>\n",
       "      <td>10.213735</td>\n",
       "      <td>2.363365</td>\n",
       "      <td>0.945844</td>\n",
       "      <td>390.360931</td>\n",
       "    </tr>\n",
       "    <tr>\n",
       "      <th>125</th>\n",
       "      <td>10.319565</td>\n",
       "      <td>2.421423</td>\n",
       "      <td>0.961096</td>\n",
       "      <td>390.894056</td>\n",
       "    </tr>\n",
       "    <tr>\n",
       "      <th>126</th>\n",
       "      <td>10.425024</td>\n",
       "      <td>2.480126</td>\n",
       "      <td>0.976441</td>\n",
       "      <td>391.360797</td>\n",
       "    </tr>\n",
       "    <tr>\n",
       "      <th>127</th>\n",
       "      <td>10.545090</td>\n",
       "      <td>2.548003</td>\n",
       "      <td>0.994092</td>\n",
       "      <td>391.894075</td>\n",
       "    </tr>\n",
       "  </tbody>\n",
       "</table>\n",
       "</div>"
      ],
      "text/plain": [
       "             x         y         z   timestamp\n",
       "123  10.092339  2.297808  0.928524  389.894061\n",
       "124  10.213735  2.363365  0.945844  390.360931\n",
       "125  10.319565  2.421423  0.961096  390.894056\n",
       "126  10.425024  2.480126  0.976441  391.360797\n",
       "127  10.545090  2.548003  0.994092  391.894075"
      ]
     },
     "execution_count": 36,
     "metadata": {},
     "output_type": "execute_result"
    }
   ],
   "source": [
    "positions_df.tail()"
   ]
  },
  {
   "cell_type": "code",
   "execution_count": 37,
   "metadata": {},
   "outputs": [
    {
     "data": {
      "text/html": [
       "<div>\n",
       "<style scoped>\n",
       "    .dataframe tbody tr th:only-of-type {\n",
       "        vertical-align: middle;\n",
       "    }\n",
       "\n",
       "    .dataframe tbody tr th {\n",
       "        vertical-align: top;\n",
       "    }\n",
       "\n",
       "    .dataframe thead th {\n",
       "        text-align: right;\n",
       "    }\n",
       "</style>\n",
       "<table border=\"1\" class=\"dataframe\">\n",
       "  <thead>\n",
       "    <tr style=\"text-align: right;\">\n",
       "      <th></th>\n",
       "      <th>x</th>\n",
       "      <th>y</th>\n",
       "      <th>z</th>\n",
       "      <th>w</th>\n",
       "      <th>timestamp</th>\n",
       "    </tr>\n",
       "  </thead>\n",
       "  <tbody>\n",
       "    <tr>\n",
       "      <th>123</th>\n",
       "      <td>0.058758</td>\n",
       "      <td>0.008380</td>\n",
       "      <td>0.246584</td>\n",
       "      <td>0.967302</td>\n",
       "      <td>389.894061</td>\n",
       "    </tr>\n",
       "    <tr>\n",
       "      <th>124</th>\n",
       "      <td>0.059732</td>\n",
       "      <td>0.008406</td>\n",
       "      <td>0.250108</td>\n",
       "      <td>0.966337</td>\n",
       "      <td>390.360931</td>\n",
       "    </tr>\n",
       "    <tr>\n",
       "      <th>125</th>\n",
       "      <td>0.060585</td>\n",
       "      <td>0.008429</td>\n",
       "      <td>0.253190</td>\n",
       "      <td>0.965481</td>\n",
       "      <td>390.894056</td>\n",
       "    </tr>\n",
       "    <tr>\n",
       "      <th>126</th>\n",
       "      <td>0.061436</td>\n",
       "      <td>0.008451</td>\n",
       "      <td>0.256268</td>\n",
       "      <td>0.964614</td>\n",
       "      <td>391.360797</td>\n",
       "    </tr>\n",
       "    <tr>\n",
       "      <th>127</th>\n",
       "      <td>0.062409</td>\n",
       "      <td>0.008477</td>\n",
       "      <td>0.259782</td>\n",
       "      <td>0.963611</td>\n",
       "      <td>391.894075</td>\n",
       "    </tr>\n",
       "  </tbody>\n",
       "</table>\n",
       "</div>"
      ],
      "text/plain": [
       "            x         y         z         w   timestamp\n",
       "123  0.058758  0.008380  0.246584  0.967302  389.894061\n",
       "124  0.059732  0.008406  0.250108  0.966337  390.360931\n",
       "125  0.060585  0.008429  0.253190  0.965481  390.894056\n",
       "126  0.061436  0.008451  0.256268  0.964614  391.360797\n",
       "127  0.062409  0.008477  0.259782  0.963611  391.894075"
      ]
     },
     "execution_count": 37,
     "metadata": {},
     "output_type": "execute_result"
    }
   ],
   "source": [
    "orientations_df.tail()"
   ]
  },
  {
   "cell_type": "code",
   "execution_count": 39,
   "metadata": {},
   "outputs": [],
   "source": [
    "positions_df.to_csv('path_positions.csv')\n",
    "orientations_df.to_csv('path_orientations.csv')"
   ]
  }
 ],
 "metadata": {
  "kernelspec": {
   "display_name": "rs2lab",
   "language": "python",
   "name": "python3"
  },
  "language_info": {
   "codemirror_mode": {
    "name": "ipython",
    "version": 3
   },
   "file_extension": ".py",
   "mimetype": "text/x-python",
   "name": "python",
   "nbconvert_exporter": "python",
   "pygments_lexer": "ipython3",
   "version": "3.10.14"
  }
 },
 "nbformat": 4,
 "nbformat_minor": 2
}
