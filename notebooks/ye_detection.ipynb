{
 "cells": [
  {
   "cell_type": "code",
   "execution_count": 334,
   "metadata": {},
   "outputs": [],
   "source": [
    "import numpy as np\n",
    "import cv2"
   ]
  },
  {
   "cell_type": "code",
   "execution_count": 335,
   "metadata": {},
   "outputs": [],
   "source": [
    "#image = cv2.imread('./imagens/left_image_150.png')\n",
    "image = cv2.imread('./imagens/right_image_149.png')\n",
    "if image is None:\n",
    "    print(\"Erro ao carregar a imagem.\")"
   ]
  },
  {
   "cell_type": "code",
   "execution_count": 336,
   "metadata": {},
   "outputs": [],
   "source": [
    "# # Definir a altura limite para a máscara\n",
    "# height_limit = 200# Ajuste conforme necessário\n",
    "\n",
    "# # Criar uma máscara do mesmo tamanho que a imagem\n",
    "# mask = np.zeros(image.shape[:2], dtype=np.uint8)\n",
    "\n",
    "# # Preencher a parte inferior da máscara com branco (1)\n",
    "# mask[height_limit:, :] = 255\n",
    "\n",
    "# # Aplicar a máscara na imagem para a detecção\n",
    "# # Usando a máscara para limitar a área de detecção\n",
    "# image_masked = cv2.bitwise_and(image, image, mask=mask)"
   ]
  },
  {
   "cell_type": "code",
   "execution_count": 337,
   "metadata": {},
   "outputs": [],
   "source": [
    "hsv_image = cv2.cvtColor(image, cv2.COLOR_BGR2HSV)"
   ]
  },
  {
   "cell_type": "code",
   "execution_count": 338,
   "metadata": {},
   "outputs": [],
   "source": [
    "# #filter right camera\n",
    "\n",
    "# # lower_red1 = np.array([0, 100, 100])\n",
    "# # upper_red1 = np.array([10, 255, 255])\n",
    "# # mask1 = cv2.inRange(hsv_image, lower_red1, upper_red1)\n",
    "\n",
    "# lower_red2 = np.array([160, 100, 100])\n",
    "# upper_red2 = np.array([180, 255, 255])\n",
    "# mask2 = cv2.inRange(hsv_image, lower_red2, upper_red2)\n",
    "\n",
    "# lower_red3 = np.array([170, 50, 50])\n",
    "# upper_red3 = np.array([180, 255, 255])\n",
    "# mask3 = cv2.inRange(hsv_image, lower_red3, upper_red3)\n",
    "\n",
    "# mask =  mask2 | mask3"
   ]
  },
  {
   "cell_type": "code",
   "execution_count": 339,
   "metadata": {},
   "outputs": [],
   "source": [
    "#filter left camera\n",
    "\n",
    "\n",
    "# lower_red1 = np.array([0, 100, 100])\n",
    "# upper_red1 = np.array([10, 255, 255])\n",
    "# mask1 = cv2.inRange(hsv_image, lower_red1, upper_red1)\n",
    "\n",
    "lower_red2 = np.array([160, 100, 100])\n",
    "upper_red2 = np.array([180, 255, 255])\n",
    "mask2 = cv2.inRange(hsv_image, lower_red2, upper_red2)\n",
    "\n",
    "lower_red3 = np.array([170, 50, 30])\n",
    "upper_red3 = np.array([180, 255, 255])\n",
    "mask3 = cv2.inRange(hsv_image, lower_red3, upper_red3)\n",
    "\n",
    "mask =  mask2 | mask3"
   ]
  },
  {
   "cell_type": "code",
   "execution_count": 340,
   "metadata": {},
   "outputs": [],
   "source": [
    "kernel = np.ones((7, 7), np.uint8)\n",
    "mask = cv2.morphologyEx(mask, cv2.MORPH_OPEN, kernel)"
   ]
  },
  {
   "cell_type": "code",
   "execution_count": 341,
   "metadata": {},
   "outputs": [],
   "source": [
    "blurred = cv2.GaussianBlur(mask, (9, 9), 10)"
   ]
  },
  {
   "cell_type": "code",
   "execution_count": 342,
   "metadata": {},
   "outputs": [],
   "source": [
    "# Detectar círculos usando a Transformada de Hough\n",
    "circles = cv2.HoughCircles(blurred, cv2.HOUGH_GRADIENT, dp=1, minDist=20,\n",
    "                            param1=100, param2=20, minRadius=10, maxRadius=50)"
   ]
  },
  {
   "cell_type": "code",
   "execution_count": 343,
   "metadata": {},
   "outputs": [],
   "source": [
    "rects = []\n",
    "\n",
    "if circles is not None:\n",
    "    circles = np.uint16(np.around(circles))\n",
    "    for i in circles[0, :]:\n",
    "        start_x, start_y = i[0] - i[2], i[1] - i[2]\n",
    "        end_x, end_y = start_x + 2 * i[2], start_y + 2 * i[2]\n",
    "        cv2.rectangle(image, (start_x, start_y), (end_x, end_y), (0, 255, 0), 2)\n",
    "        rects.append(np.array((start_x, start_y, end_x, end_y), dtype=\"int\"))"
   ]
  },
  {
   "cell_type": "code",
   "execution_count": 344,
   "metadata": {},
   "outputs": [],
   "source": [
    "objects = None"
   ]
  },
  {
   "cell_type": "code",
   "execution_count": 345,
   "metadata": {},
   "outputs": [],
   "source": [
    "def camera(self, camera_name):\n",
    "    if camera_name == \"left\":\n",
    "        objects = self.left_tracker.update(rects)\n",
    "    elif camera_name == \"right\":\n",
    "        objects = self.right_tracker.update(rects)"
   ]
  },
  {
   "cell_type": "code",
   "execution_count": 346,
   "metadata": {},
   "outputs": [],
   "source": [
    "if objects:\n",
    "    for objectID, centroid in objects.items():\n",
    "        # draw both the ID of the object and the centroid of the\n",
    "        # object on the output frame\n",
    "        text = \"ID {}\".format(objectID)\n",
    "        cv2.putText(\n",
    "            image,\n",
    "            text,\n",
    "            (centroid[0] - 10, centroid[1] - 10),\n",
    "            cv2.FONT_HERSHEY_SIMPLEX,\n",
    "            0.5,\n",
    "            (0, 255, 0),\n",
    "            2,\n",
    "        )\n",
    "        cv2.circle(image, (centroid[0], centroid[1]), 4, (0, 255, 0), -1)"
   ]
  },
  {
   "cell_type": "code",
   "execution_count": 347,
   "metadata": {},
   "outputs": [],
   "source": [
    "def kmeans_segmentation(\n",
    "    self,\n",
    "    image,\n",
    "    attempts=10,\n",
    "    k=4,\n",
    "    criteria=(cv2.TERM_CRITERIA_EPS + cv2.TERM_CRITERIA_MAX_ITER, 10, 1.0),\n",
    "):\n",
    "    td_img = np.float32(image.reshape((-1, 3)))\n",
    "    _, label, center = cv2.kmeans(\n",
    "        td_img, k, None, criteria, attempts, cv2.KMEANS_PP_CENTERS\n",
    "    )\n",
    "\n",
    "    center = np.uint8(center)\n",
    "    res = center[label.flatten()]\n",
    "    \n",
    "    return res.reshape((image.shape))\n"
   ]
  },
  {
   "cell_type": "code",
   "execution_count": 348,
   "metadata": {},
   "outputs": [],
   "source": [
    "cv2.imshow('Imagem com Tomates Detectados', image)\n",
    "cv2.imshow('HSV_image', hsv_image)\n",
    "cv2.imshow('Máscara', mask)\n",
    "cv2.imshow('blurred_image', mask)\n",
    "cv2.waitKey(0)\n",
    "cv2.destroyAllWindows()"
   ]
  },
  {
   "cell_type": "markdown",
   "metadata": {},
   "source": []
  }
 ],
 "metadata": {
  "kernelspec": {
   "display_name": "Python 3",
   "language": "python",
   "name": "python3"
  },
  "language_info": {
   "codemirror_mode": {
    "name": "ipython",
    "version": 3
   },
   "file_extension": ".py",
   "mimetype": "text/x-python",
   "name": "python",
   "nbconvert_exporter": "python",
   "pygments_lexer": "ipython3",
   "version": "3.10.12"
  }
 },
 "nbformat": 4,
 "nbformat_minor": 2
}
